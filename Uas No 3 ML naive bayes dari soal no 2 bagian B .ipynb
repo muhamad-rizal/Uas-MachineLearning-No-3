{
  "nbformat": 4,
  "nbformat_minor": 0,
  "metadata": {
    "colab": {
      "name": "Untitled2.ipynb",
      "provenance": [],
      "authorship_tag": "ABX9TyNTHHVuyQ+G2bka3r/KwXCG",
      "include_colab_link": true
    },
    "kernelspec": {
      "name": "python3",
      "display_name": "Python 3"
    }
  },
  "cells": [
    {
      "cell_type": "markdown",
      "metadata": {
        "id": "view-in-github",
        "colab_type": "text"
      },
      "source": [
        "<a href=\"https://colab.research.google.com/github/muhamad-rizal/Uas-MachineLearning-No-3/blob/main/Uas%20No%203%20ML%20naive%20bayes%20dari%20soal%20no%202%20bagian%20B%20.ipynb\" target=\"_parent\"><img src=\"https://colab.research.google.com/assets/colab-badge.svg\" alt=\"Open In Colab\"/></a>"
      ]
    },
    {
      "cell_type": "code",
      "metadata": {
        "colab": {
          "base_uri": "https://localhost:8080/",
          "height": 204
        },
        "id": "q4k5Omvw7hin",
        "outputId": "dbd99b22-1afb-47b6-f2ae-a71d659a2160"
      },
      "source": [
        "import pandas as pd\r\n",
        "columns = ['Name','Body','Gives','Four-Legged','Hibernate','Mamalia(Yes/No)']\r\n",
        "rows = []\r\n",
        "rows = [['Salamander','Cold','No','Yes','Yes','No'],\r\n",
        "        ['Guppy','Cold','Yes','No','No','No'],\r\n",
        "        ['Eagle','Warm','No','No','No','No'],\r\n",
        "        ['Poorwile','Warm','No','No','Yes','No'],\r\n",
        "        ['Platypus','Warm','No','Yes','Yes','Yes']]\r\n",
        "\r\n",
        "training_data = pd.DataFrame(rows, columns=columns)\r\n",
        "training_data"
      ],
      "execution_count": 38,
      "outputs": [
        {
          "output_type": "execute_result",
          "data": {
            "text/html": [
              "<div>\n",
              "<style scoped>\n",
              "    .dataframe tbody tr th:only-of-type {\n",
              "        vertical-align: middle;\n",
              "    }\n",
              "\n",
              "    .dataframe tbody tr th {\n",
              "        vertical-align: top;\n",
              "    }\n",
              "\n",
              "    .dataframe thead th {\n",
              "        text-align: right;\n",
              "    }\n",
              "</style>\n",
              "<table border=\"1\" class=\"dataframe\">\n",
              "  <thead>\n",
              "    <tr style=\"text-align: right;\">\n",
              "      <th></th>\n",
              "      <th>Name</th>\n",
              "      <th>Body</th>\n",
              "      <th>Gives</th>\n",
              "      <th>Four-Legged</th>\n",
              "      <th>Hibernate</th>\n",
              "      <th>Mamalia(Yes/No)</th>\n",
              "    </tr>\n",
              "  </thead>\n",
              "  <tbody>\n",
              "    <tr>\n",
              "      <th>0</th>\n",
              "      <td>Salamander</td>\n",
              "      <td>Cold</td>\n",
              "      <td>No</td>\n",
              "      <td>Yes</td>\n",
              "      <td>Yes</td>\n",
              "      <td>No</td>\n",
              "    </tr>\n",
              "    <tr>\n",
              "      <th>1</th>\n",
              "      <td>Guppy</td>\n",
              "      <td>Cold</td>\n",
              "      <td>Yes</td>\n",
              "      <td>No</td>\n",
              "      <td>No</td>\n",
              "      <td>No</td>\n",
              "    </tr>\n",
              "    <tr>\n",
              "      <th>2</th>\n",
              "      <td>Eagle</td>\n",
              "      <td>Warm</td>\n",
              "      <td>No</td>\n",
              "      <td>No</td>\n",
              "      <td>No</td>\n",
              "      <td>No</td>\n",
              "    </tr>\n",
              "    <tr>\n",
              "      <th>3</th>\n",
              "      <td>Poorwile</td>\n",
              "      <td>Warm</td>\n",
              "      <td>No</td>\n",
              "      <td>No</td>\n",
              "      <td>Yes</td>\n",
              "      <td>No</td>\n",
              "    </tr>\n",
              "    <tr>\n",
              "      <th>4</th>\n",
              "      <td>Platypus</td>\n",
              "      <td>Warm</td>\n",
              "      <td>No</td>\n",
              "      <td>Yes</td>\n",
              "      <td>Yes</td>\n",
              "      <td>Yes</td>\n",
              "    </tr>\n",
              "  </tbody>\n",
              "</table>\n",
              "</div>"
            ],
            "text/plain": [
              "         Name  Body Gives Four-Legged Hibernate Mamalia(Yes/No)\n",
              "0  Salamander  Cold    No         Yes       Yes              No\n",
              "1       Guppy  Cold   Yes          No        No              No\n",
              "2       Eagle  Warm    No          No        No              No\n",
              "3    Poorwile  Warm    No          No       Yes              No\n",
              "4    Platypus  Warm    No         Yes       Yes             Yes"
            ]
          },
          "metadata": {
            "tags": []
          },
          "execution_count": 38
        }
      ]
    },
    {
      "cell_type": "code",
      "metadata": {
        "colab": {
          "base_uri": "https://localhost:8080/"
        },
        "id": "NTuNALWn7yjq",
        "outputId": "a08d3147-10ac-4d5e-a558-397c285d0af4"
      },
      "source": [
        "from sklearn.feature_extraction.text import CountVectorizer\r\n",
        "No_docs = [row['Name'] for index,row in training_data.iterrows()if row['Mamalia(Yes/No)'] == 'No']\r\n",
        "No_docs"
      ],
      "execution_count": 39,
      "outputs": [
        {
          "output_type": "execute_result",
          "data": {
            "text/plain": [
              "['Salamander', 'Guppy', 'Eagle', 'Poorwile']"
            ]
          },
          "metadata": {
            "tags": []
          },
          "execution_count": 39
        }
      ]
    },
    {
      "cell_type": "code",
      "metadata": {
        "colab": {
          "base_uri": "https://localhost:8080/",
          "height": 173
        },
        "id": "KuMrue1B8AL8",
        "outputId": "c42cb29b-6cc2-47da-ef47-401b54316134"
      },
      "source": [
        "\r\n",
        "vec_s = CountVectorizer()\r\n",
        "X_s = vec_s.fit_transform(No_docs)\r\n",
        "\r\n",
        "tdm_s = pd.DataFrame(X_s.toarray(), columns=vec_s.get_feature_names())\r\n",
        "\r\n",
        "tdm_s"
      ],
      "execution_count": 40,
      "outputs": [
        {
          "output_type": "execute_result",
          "data": {
            "text/html": [
              "<div>\n",
              "<style scoped>\n",
              "    .dataframe tbody tr th:only-of-type {\n",
              "        vertical-align: middle;\n",
              "    }\n",
              "\n",
              "    .dataframe tbody tr th {\n",
              "        vertical-align: top;\n",
              "    }\n",
              "\n",
              "    .dataframe thead th {\n",
              "        text-align: right;\n",
              "    }\n",
              "</style>\n",
              "<table border=\"1\" class=\"dataframe\">\n",
              "  <thead>\n",
              "    <tr style=\"text-align: right;\">\n",
              "      <th></th>\n",
              "      <th>eagle</th>\n",
              "      <th>guppy</th>\n",
              "      <th>poorwile</th>\n",
              "      <th>salamander</th>\n",
              "    </tr>\n",
              "  </thead>\n",
              "  <tbody>\n",
              "    <tr>\n",
              "      <th>0</th>\n",
              "      <td>0</td>\n",
              "      <td>0</td>\n",
              "      <td>0</td>\n",
              "      <td>1</td>\n",
              "    </tr>\n",
              "    <tr>\n",
              "      <th>1</th>\n",
              "      <td>0</td>\n",
              "      <td>1</td>\n",
              "      <td>0</td>\n",
              "      <td>0</td>\n",
              "    </tr>\n",
              "    <tr>\n",
              "      <th>2</th>\n",
              "      <td>1</td>\n",
              "      <td>0</td>\n",
              "      <td>0</td>\n",
              "      <td>0</td>\n",
              "    </tr>\n",
              "    <tr>\n",
              "      <th>3</th>\n",
              "      <td>0</td>\n",
              "      <td>0</td>\n",
              "      <td>1</td>\n",
              "      <td>0</td>\n",
              "    </tr>\n",
              "  </tbody>\n",
              "</table>\n",
              "</div>"
            ],
            "text/plain": [
              "   eagle  guppy  poorwile  salamander\n",
              "0      0      0         0           1\n",
              "1      0      1         0           0\n",
              "2      1      0         0           0\n",
              "3      0      0         1           0"
            ]
          },
          "metadata": {
            "tags": []
          },
          "execution_count": 40
        }
      ]
    },
    {
      "cell_type": "code",
      "metadata": {
        "colab": {
          "base_uri": "https://localhost:8080/",
          "height": 80
        },
        "id": "udWddb6b8EAm",
        "outputId": "4ae57d48-d92b-4612-a4bb-4c1c247ccebb"
      },
      "source": [
        "q_docs = [row['Name'] for index,row in training_data.iterrows() if row['Mamalia(Yes/No)'] == 'Yes' ]\r\n",
        "vec_q = CountVectorizer()\r\n",
        "x_q = vec_q.fit_transform(q_docs)\r\n",
        "tdm_q = pd.DataFrame(x_q.toarray(), columns=vec_q.get_feature_names())\r\n",
        "\r\n",
        "tdm_q"
      ],
      "execution_count": 42,
      "outputs": [
        {
          "output_type": "execute_result",
          "data": {
            "text/html": [
              "<div>\n",
              "<style scoped>\n",
              "    .dataframe tbody tr th:only-of-type {\n",
              "        vertical-align: middle;\n",
              "    }\n",
              "\n",
              "    .dataframe tbody tr th {\n",
              "        vertical-align: top;\n",
              "    }\n",
              "\n",
              "    .dataframe thead th {\n",
              "        text-align: right;\n",
              "    }\n",
              "</style>\n",
              "<table border=\"1\" class=\"dataframe\">\n",
              "  <thead>\n",
              "    <tr style=\"text-align: right;\">\n",
              "      <th></th>\n",
              "      <th>platypus</th>\n",
              "    </tr>\n",
              "  </thead>\n",
              "  <tbody>\n",
              "    <tr>\n",
              "      <th>0</th>\n",
              "      <td>1</td>\n",
              "    </tr>\n",
              "  </tbody>\n",
              "</table>\n",
              "</div>"
            ],
            "text/plain": [
              "   platypus\n",
              "0         1"
            ]
          },
          "metadata": {
            "tags": []
          },
          "execution_count": 42
        }
      ]
    },
    {
      "cell_type": "code",
      "metadata": {
        "colab": {
          "base_uri": "https://localhost:8080/"
        },
        "id": "k9lZsFTM8Gf7",
        "outputId": "7541f68b-6fa8-49a1-b9d1-e708b8a68509"
      },
      "source": [
        "word_list_s = vec_s.get_feature_names();\r\n",
        "count_list_s = X_s.toarray().sum(axis=0)\r\n",
        "freq_s = dict(zip(word_list_s,count_list_s))\r\n",
        "word_list_s\r\n",
        "freq_s"
      ],
      "execution_count": 43,
      "outputs": [
        {
          "output_type": "execute_result",
          "data": {
            "text/plain": [
              "{'eagle': 1, 'guppy': 1, 'poorwile': 1, 'salamander': 1}"
            ]
          },
          "metadata": {
            "tags": []
          },
          "execution_count": 43
        }
      ]
    },
    {
      "cell_type": "code",
      "metadata": {
        "colab": {
          "base_uri": "https://localhost:8080/"
        },
        "id": "1Ppwr_1r8Kxt",
        "outputId": "7f81fd69-9401-4fdf-df35-755ac9412748"
      },
      "source": [
        "word_list_q = vec_q.get_feature_names();\r\n",
        "count_list_q = X_s.toarray().sum(axis=0)\r\n",
        "freq_q = dict(zip(word_list_q,count_list_q))\r\n",
        "word_list_q\r\n",
        "freq_q"
      ],
      "execution_count": 45,
      "outputs": [
        {
          "output_type": "execute_result",
          "data": {
            "text/plain": [
              "{'platypus': 1}"
            ]
          },
          "metadata": {
            "tags": []
          },
          "execution_count": 45
        }
      ]
    },
    {
      "cell_type": "code",
      "metadata": {
        "colab": {
          "base_uri": "https://localhost:8080/"
        },
        "id": "GN_i7i2b8Njt",
        "outputId": "2bb56ea6-cfbd-49fa-d27a-a636e70a3a59"
      },
      "source": [
        "prob_s=[]\r\n",
        "for word,count in zip(word_list_s,count_list_s):\r\n",
        "  prob_s.append(count/len(word_list_s))\r\n",
        "dict(zip(word_list_s,prob_s))"
      ],
      "execution_count": 46,
      "outputs": [
        {
          "output_type": "execute_result",
          "data": {
            "text/plain": [
              "{'eagle': 0.25, 'guppy': 0.25, 'poorwile': 0.25, 'salamander': 0.25}"
            ]
          },
          "metadata": {
            "tags": []
          },
          "execution_count": 46
        }
      ]
    },
    {
      "cell_type": "code",
      "metadata": {
        "colab": {
          "base_uri": "https://localhost:8080/"
        },
        "id": "HLBHTuv38Q-w",
        "outputId": "0f803a52-7b3c-4ea0-8366-6fb77f189253"
      },
      "source": [
        "word_list_q = vec_q.get_feature_names();\r\n",
        "count_list_q = X_s.toarray().sum(axis=0)\r\n",
        "freq_q = dict(zip(word_list_q,count_list_q))\r\n",
        "freq_q"
      ],
      "execution_count": 47,
      "outputs": [
        {
          "output_type": "execute_result",
          "data": {
            "text/plain": [
              "{'platypus': 1}"
            ]
          },
          "metadata": {
            "tags": []
          },
          "execution_count": 47
        }
      ]
    },
    {
      "cell_type": "code",
      "metadata": {
        "colab": {
          "base_uri": "https://localhost:8080/"
        },
        "id": "Hm3hSO348TR4",
        "outputId": "44dd2bae-ed8f-461d-d9a8-4662dc58c2f1"
      },
      "source": [
        "prob_q=[]\r\n",
        "for word,count in zip(word_list_q,count_list_q):\r\n",
        "    prob_q.append(count/len(word_list_q))\r\n",
        "dict(zip(word_list_q,prob_q))"
      ],
      "execution_count": 49,
      "outputs": [
        {
          "output_type": "execute_result",
          "data": {
            "text/plain": [
              "{'platypus': 1.0}"
            ]
          },
          "metadata": {
            "tags": []
          },
          "execution_count": 49
        }
      ]
    },
    {
      "cell_type": "code",
      "metadata": {
        "colab": {
          "base_uri": "https://localhost:8080/"
        },
        "id": "hBQvJgvE8WSj",
        "outputId": "d8830510-8322-4230-9102-5d828d2c5f7a"
      },
      "source": [
        "from sklearn.feature_extraction.text import CountVectorizer\r\n",
        "\r\n",
        "docs = [row['Name'] for index,row in training_data.iterrows()]\r\n",
        "\r\n",
        "vec = CountVectorizer()\r\n",
        "X = vec.fit_transform(docs)\r\n",
        "\r\n",
        "total_feature = len(vec.get_feature_names())\r\n",
        "total_feature"
      ],
      "execution_count": 50,
      "outputs": [
        {
          "output_type": "execute_result",
          "data": {
            "text/plain": [
              "5"
            ]
          },
          "metadata": {
            "tags": []
          },
          "execution_count": 50
        }
      ]
    },
    {
      "cell_type": "code",
      "metadata": {
        "colab": {
          "base_uri": "https://localhost:8080/"
        },
        "id": "wKvUPZ808Y0H",
        "outputId": "b2f1f641-ef8d-4cac-d013-aabd12f62370"
      },
      "source": [
        "total_cnts_feature_s = count_list_s.sum(axis=0)\r\n",
        "total_cnts_feature_q = count_list_q.sum(axis=0)\r\n",
        "print (total_cnts_feature_q)\r\n",
        "print (total_cnts_feature_s)"
      ],
      "execution_count": 51,
      "outputs": [
        {
          "output_type": "stream",
          "text": [
            "4\n",
            "4\n"
          ],
          "name": "stdout"
        }
      ]
    },
    {
      "cell_type": "code",
      "metadata": {
        "colab": {
          "base_uri": "https://localhost:8080/"
        },
        "id": "OxYcsOpk8bBm",
        "outputId": "be2e2dd4-1beb-4c9d-cb3a-9c0f4fd3a95c"
      },
      "source": [
        "import nltk\r\n",
        "nltk.download('punkt')"
      ],
      "execution_count": 53,
      "outputs": [
        {
          "output_type": "stream",
          "text": [
            "[nltk_data] Downloading package punkt to /root/nltk_data...\n",
            "[nltk_data]   Package punkt is already up-to-date!\n"
          ],
          "name": "stdout"
        },
        {
          "output_type": "execute_result",
          "data": {
            "text/plain": [
              "True"
            ]
          },
          "metadata": {
            "tags": []
          },
          "execution_count": 53
        }
      ]
    },
    {
      "cell_type": "code",
      "metadata": {
        "colab": {
          "base_uri": "https://localhost:8080/"
        },
        "id": "rQ7xXlIH8dqw",
        "outputId": "95ff511f-647c-4168-c089-510dde7573d9"
      },
      "source": [
        "from nltk.tokenize import word_tokenize\r\n",
        "new_sentence = 'what is the value'\r\n",
        "new_word_list = word_tokenize(new_sentence)\r\n",
        "print(new_word_list)"
      ],
      "execution_count": 54,
      "outputs": [
        {
          "output_type": "stream",
          "text": [
            "['what', 'is', 'the', 'value']\n"
          ],
          "name": "stdout"
        }
      ]
    },
    {
      "cell_type": "code",
      "metadata": {
        "colab": {
          "base_uri": "https://localhost:8080/"
        },
        "id": "QaOOq06H8fy-",
        "outputId": "d86d721d-2efb-4b67-f222-69ef913d3c78"
      },
      "source": [
        "prob_s_with_ls = []\r\n",
        "for word in new_word_list:\r\n",
        "  if word in freq_s.keys():\r\n",
        "    count = freq_s[word]\r\n",
        "  else:\r\n",
        "    count = 0\r\n",
        "  prob_s_with_ls.append((count + 1)/(total_cnts_feature_s + total_feature))\r\n",
        "dict(zip(new_word_list,prob_s_with_ls))"
      ],
      "execution_count": 55,
      "outputs": [
        {
          "output_type": "execute_result",
          "data": {
            "text/plain": [
              "{'is': 0.1111111111111111,\n",
              " 'the': 0.1111111111111111,\n",
              " 'value': 0.1111111111111111,\n",
              " 'what': 0.1111111111111111}"
            ]
          },
          "metadata": {
            "tags": []
          },
          "execution_count": 55
        }
      ]
    },
    {
      "cell_type": "code",
      "metadata": {
        "colab": {
          "base_uri": "https://localhost:8080/"
        },
        "id": "6m8hMkR28iKp",
        "outputId": "8da1f150-417e-4c3c-e842-a16fd52b0799"
      },
      "source": [
        "prob_q_with_ls = []\r\n",
        "for word in new_word_list:\r\n",
        "  if word in freq_q.keys():\r\n",
        "    count = freq_q[word]\r\n",
        "  else:\r\n",
        "    count = 0\r\n",
        "  prob_q_with_ls.append((count + 1)/(total_cnts_feature_q + total_feature))\r\n",
        "dict(zip(new_word_list,prob_q_with_ls))"
      ],
      "execution_count": 56,
      "outputs": [
        {
          "output_type": "execute_result",
          "data": {
            "text/plain": [
              "{'is': 0.1111111111111111,\n",
              " 'the': 0.1111111111111111,\n",
              " 'value': 0.1111111111111111,\n",
              " 'what': 0.1111111111111111}"
            ]
          },
          "metadata": {
            "tags": []
          },
          "execution_count": 56
        }
      ]
    },
    {
      "cell_type": "code",
      "metadata": {
        "colab": {
          "base_uri": "https://localhost:8080/"
        },
        "id": "RaakCeOx8lGr",
        "outputId": "aa58bce1-0641-4925-e20e-948aeb60c849"
      },
      "source": [
        "\r\n",
        "i=0\r\n",
        "prob_s_=1\r\n",
        "for i in range(len(prob_s_with_ls)):\r\n",
        "  prob_s_=prob_s_*prob_s_with_ls[i]\r\n",
        "print (prob_s_)\r\n",
        "print(\"Nilai Akhir=\",prob_s_*0.5 )"
      ],
      "execution_count": 57,
      "outputs": [
        {
          "output_type": "stream",
          "text": [
            "0.00015241579027587256\n",
            "Nilai Akhir= 7.620789513793628e-05\n"
          ],
          "name": "stdout"
        }
      ]
    },
    {
      "cell_type": "code",
      "metadata": {
        "colab": {
          "base_uri": "https://localhost:8080/"
        },
        "id": "nKW38nZ88nqC",
        "outputId": "34678e54-ede3-46e3-eb5d-1b7b7580d4b5"
      },
      "source": [
        "i=0\r\n",
        "prob_q_=1\r\n",
        "for i in range(len(prob_q_with_ls)):\r\n",
        "  prob_q_=prob_q_*prob_q_with_ls[i]\r\n",
        "print (prob_q_)\r\n",
        "print(\"Nilai Akhir=\",prob_q_*0.5 )"
      ],
      "execution_count": 58,
      "outputs": [
        {
          "output_type": "stream",
          "text": [
            "0.00015241579027587256\n",
            "Nilai Akhir= 7.620789513793628e-05\n"
          ],
          "name": "stdout"
        }
      ]
    }
  ]
}